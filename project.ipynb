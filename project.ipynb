{
 "cells": [
  {
   "cell_type": "markdown",
   "metadata": {},
   "source": [
    "### MODS 205 - Digital Finance\n",
    "---\n",
    "**Professor:** Patrick Waelbroeck\n",
    "\n",
    "**Students:**\n",
    "\n",
    "Yuri DE SENE ALVIZI\n",
    "\n",
    "Arthur MARTINS BRAGA"
   ]
  },
  {
   "cell_type": "markdown",
   "metadata": {},
   "source": [
    "#### Question 1\n",
    "Comment on the article “Crypto’s Richest Rebel” from Fortune April/May 2022 available on the e-campus website using all keywords and concepts covered in the course."
   ]
  },
  {
   "cell_type": "markdown",
   "metadata": {},
   "source": [
    "#### Question 2\n",
    "Comment on the article “Binance CEO Changpeng Zhao charged with money laundering” from Fortune Website 2023-11-23 available on the e-campus website using all keywords and concepts covered in the course\n"
   ]
  },
  {
   "cell_type": "markdown",
   "metadata": {},
   "source": [
    "#### Question 3\n",
    "3.1. Import data in Excel (2 stocks, CAC40 index, 5-week interest rate from the US Treasury). Sort data by date and make sure that all dates coincides for all columns. Adjust cells if there are missing values.\n"
   ]
  },
  {
   "cell_type": "markdown",
   "metadata": {},
   "source": [
    "3.2. Give a short financial analysis of the two stocks by using relevant concepts of the course.\n"
   ]
  },
  {
   "cell_type": "markdown",
   "metadata": {},
   "source": [
    "3.3. Compute the return for both stocks and for the CAC40 index. Comment on your results.\n"
   ]
  },
  {
   "cell_type": "markdown",
   "metadata": {},
   "source": [
    "3.4. Compute the coefficients of Kurtosis and of asymmetry of the 3 series of question 3.3.\n",
    "Plot the histograms and comment on your results\n"
   ]
  },
  {
   "cell_type": "markdown",
   "metadata": {},
   "source": [
    "3.5. Compute the standard errors of the return for both stocks for the full period and then for 3\n",
    "sub-periods of equal size. Is volatility constant?\n"
   ]
  },
  {
   "cell_type": "markdown",
   "metadata": {},
   "source": [
    "3.6. Compute the correlation between each stock and the CAC40. Comment on your results.\n"
   ]
  },
  {
   "cell_type": "markdown",
   "metadata": {},
   "source": [
    "3.7. Compute the returns of a portfolio in which both stocks have an equal weight. Compute\n",
    "the average return and the standard deviation over the whole sample period. Comment on\n",
    "your results.\n"
   ]
  },
  {
   "cell_type": "markdown",
   "metadata": {},
   "source": [
    "3.8. Consider a portfolio with one stock and the risk-free interest rate (you can choose the\n",
    "stock out of the two that are available). What is the optimal portfolio allocation between these\n",
    "two assets for an investor with a utility function presented in the course and A=1.5?\n"
   ]
  },
  {
   "cell_type": "markdown",
   "metadata": {},
   "source": [
    "3.9. Consider the following 3 portfolios: portfolio 1 has stock 1 as the only component;\n",
    "portfolio 2 has stock 2 as the only component; portfolio 3 is the portfolio of question 3.7.\n",
    "These are the only portfolio available to investors. Draw the efficient frontier. Which portfolio\n",
    "are inefficient?\n"
   ]
  },
  {
   "cell_type": "markdown",
   "metadata": {},
   "source": [
    "3.10. Consider the portfolio of question 3.7. Compute the Sharpe ratio, the Sortino ratio, the\n",
    "Sterling ratio. Why are there differences between these ratios?\n"
   ]
  },
  {
   "cell_type": "markdown",
   "metadata": {},
   "source": [
    "3.12. Compute the empirical VAR at 1% for the same portfolio. Compute the 1st percentile of the normal distribution with mean and variance corresponding respectively to the empirical mean and to the empirical variance. Comment on your results.\n"
   ]
  },
  {
   "cell_type": "markdown",
   "metadata": {},
   "source": [
    "3.12. Compute the VAR using resampling with 1000 observations. Compute the 1% VAR on the simulated data set. Comment on your results."
   ]
  },
  {
   "cell_type": "markdown",
   "metadata": {},
   "source": [
    "#### Question 4\n",
    "Run an automated trading algorithm using any method you want (moving averages, candlesticks, patterns, ML, …) over the sample period. You can only have 3 positions: buy/sell, short/cover, do nothing. You cannot use derivative products. Can you beat the market?"
   ]
  }
 ],
 "metadata": {
  "language_info": {
   "name": "python"
  }
 },
 "nbformat": 4,
 "nbformat_minor": 2
}
