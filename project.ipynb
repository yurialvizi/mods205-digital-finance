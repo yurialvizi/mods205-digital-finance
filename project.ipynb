{
 "cells": [
  {
   "cell_type": "markdown",
   "metadata": {},
   "source": [
    "### MODS 205 - Digital Finance\n",
    "---\n",
    "Professor: Patrick Waelbroeck\n",
    "\n",
    "Students:\n",
    "\n",
    "Yuri DE SENE ALVIZI\n",
    "\n",
    "Arthur MARTINS BRAGA"
   ]
  },
  {
   "cell_type": "code",
   "execution_count": null,
   "metadata": {
    "vscode": {
     "languageId": "plaintext"
    }
   },
   "outputs": [],
   "source": []
  }
 ],
 "metadata": {
  "language_info": {
   "name": "python"
  }
 },
 "nbformat": 4,
 "nbformat_minor": 2
}
